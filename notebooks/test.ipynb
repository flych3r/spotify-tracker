{
 "cells": [
  {
   "cell_type": "code",
   "execution_count": 2,
   "metadata": {},
   "outputs": [],
   "source": [
    "import json"
   ]
  },
  {
   "cell_type": "code",
   "execution_count": 35,
   "metadata": {},
   "outputs": [],
   "source": [
    "with open('tracks.json') as f:\n",
    "    tracks = json.load(f)\n",
    "    tracks = tracks.get('items')"
   ]
  },
  {
   "cell_type": "code",
   "execution_count": 36,
   "metadata": {},
   "outputs": [
    {
     "data": {
      "text/plain": "[{'track': '2gNfxysfBRfl9Lvi9T3v6R', 'artist': '5INjqkS1o8h1imAzPqGZBb'},\n {'track': '2gNfxysfBRfl9Lvi9T3v6R', 'artist': '4INjqkS1o8h1imAzPqGZBb'},\n {'track': '2X485T9Z5Ly0xyaghN73ed', 'artist': '5INjqkS1o8h1imAzPqGZBb'}]"
     },
     "execution_count": 36,
     "metadata": {},
     "output_type": "execute_result"
    }
   ],
   "source": [
    "# [val for sublist in matrix for val in sublist]\n",
    "[{'track': track.get('track').get('id'), 'artist': artist.get('id')} for track in tracks for artist in track.get('track').get('artists')]\n",
    "# [track.get('track').get('id') for track in tracks]"
   ]
  }
 ],
 "metadata": {
  "language_info": {
   "name": "python",
   "nbconvert_exporter": "python"
  },
  "orig_nbformat": 2
 },
 "nbformat": 4,
 "nbformat_minor": 2
}
