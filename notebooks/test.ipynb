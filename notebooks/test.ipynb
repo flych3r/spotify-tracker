{
 "cells": [
  {
   "cell_type": "code",
   "execution_count": 1,
   "metadata": {},
   "outputs": [],
   "source": [
    "new_artists = [{'id': 'a'}, {'id': 'b'}, {'id': 'a'}, {'id': 'c'}]"
   ]
  },
  {
   "cell_type": "code",
   "execution_count": 17,
   "metadata": {},
   "outputs": [
    {
     "data": {
      "text/plain": "[{'id': 'a'}, {'id': 'b'}, {'id': 'c'}]"
     },
     "execution_count": 17,
     "metadata": {},
     "output_type": "execute_result"
    }
   ],
   "source": [
    "# res = []\n",
    "ids = []\n",
    "r = [(x, ids.append(x['id'])) for x in new_artists if x['id'] not in ids]\n",
    "[*map(lambda x: x[0], r)]#[i[0] for i in r]"
   ]
  },
  {
   "cell_type": "code",
   "execution_count": 9,
   "metadata": {},
   "outputs": [
    {
     "data": {
      "text/plain": "[{'id': 'a'}, {'id': 'b'}, {'id': 'c'}]"
     },
     "execution_count": 9,
     "metadata": {},
     "output_type": "execute_result"
    }
   ],
   "source": [
    "[*{frozenset(item.items()):item for item in new_artists}.values()]"
   ]
  }
 ],
 "metadata": {
  "kernelspec": {
   "display_name": "Python 3.8.8  ('venv': venv)",
   "name": "pythonjvsc74a57bd0b4df699ffba3554d447d70074cae513407392f54cae1e575687ad09f9c28e662"
  },
  "language_info": {
   "codemirror_mode": {
    "name": "ipython",
    "version": 3
   },
   "file_extension": ".py",
   "mimetype": "text/x-python",
   "name": "python",
   "nbconvert_exporter": "python",
   "pygments_lexer": "ipython3",
   "version": "3.8.8"
  },
  "metadata": {
   "interpreter": {
    "hash": "b4df699ffba3554d447d70074cae513407392f54cae1e575687ad09f9c28e662"
   }
  },
  "orig_nbformat": 2
 },
 "nbformat": 4,
 "nbformat_minor": 2
}
