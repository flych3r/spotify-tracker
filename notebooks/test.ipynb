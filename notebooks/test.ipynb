{
 "cells": [
  {
   "cell_type": "code",
   "execution_count": 1,
   "metadata": {},
   "outputs": [],
   "source": [
    "def filter_duplicate_dicts_by_key(\n",
    "    dictionaries, key\n",
    "):\n",
    "    unique_keys = []\n",
    "    dictionaries = [\n",
    "        (d, unique_keys.append(d[key]))\n",
    "        for d in dictionaries if d[key] not in unique_keys\n",
    "    ]\n",
    "    return [*map(lambda x: x[0], dictionaries)]"
   ]
  },
  {
   "cell_type": "code",
   "execution_count": 2,
   "metadata": {},
   "outputs": [],
   "source": [
    "new_artists = [{'id': 'a'}, {'id': 'b'}, {'id': 'a'}, {'id': 'c'}]"
   ]
  },
  {
   "cell_type": "code",
   "execution_count": 4,
   "metadata": {},
   "outputs": [
    {
     "data": {
      "text/plain": "([{'id': 'a'}, {'id': 'b'}, {'id': 'c'}],\n [{'id': 'a'}, {'id': 'b'}, {'id': 'a'}, {'id': 'c'}])"
     },
     "execution_count": 4,
     "metadata": {},
     "output_type": "execute_result"
    }
   ],
   "source": [
    "filter_duplicate_dicts_by_key(new_artists, 'id'), new_artists"
   ]
  }
 ],
 "metadata": {
  "kernelspec": {
   "display_name": "Python 3.8.8  ('venv': venv)",
   "name": "pythonjvsc74a57bd0b4df699ffba3554d447d70074cae513407392f54cae1e575687ad09f9c28e662"
  },
  "language_info": {
   "codemirror_mode": {
    "name": "ipython",
    "version": 3
   },
   "file_extension": ".py",
   "mimetype": "text/x-python",
   "name": "python",
   "nbconvert_exporter": "python",
   "pygments_lexer": "ipython3",
   "version": "3.8.8"
  },
  "metadata": {
   "interpreter": {
    "hash": "b4df699ffba3554d447d70074cae513407392f54cae1e575687ad09f9c28e662"
   }
  },
  "orig_nbformat": 2
 },
 "nbformat": 4,
 "nbformat_minor": 2
}
